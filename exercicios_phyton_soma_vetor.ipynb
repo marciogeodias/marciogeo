N = int(input("Quantos números você irá digitar: "))

vet = [0 for x in range(N)]
soma = 0
Media = 0

for i in range(N):
  vet[i] = float(input("digite um número: "))
  soma = soma + vet[i]
Media = soma / N


print(" A lista de numeros digitados é de: ", vet)
print(" A soma é de: ", soma)
print(" A média é de: ", Media)
