import pandas as pd
import numpy as np
s1=pd.Series([1,2,-5,0]) #Series: objeto do tipo array unidimensional com indice a esquerda e valores a direita
print(s1)
print(s1.values)#imprime somente os valores
print(s1.index)#imprime somente os indices (começa no 0,vai ate o 4, passo:1)
s2=pd.Series([1,2,-5,10], index=['a','b','c','d'])#adicionando valores e indices
print(s2)
print(s2.index)#imprime somente os indices
s2['a']=200# atribui um valor no indice a
print(s2)#imprime S2 com o novo valor em a
print(s2[s2>0])#comparação: percorre toda a series e imprime somente os valores iguais ou maiores do que 2
print(s2*s2)#multiplica todos os valores da series por 2
print(s2)#repare que a multiplicação anterior não mexe nos valores originais da series
print(s2.isnull())#verifica se tem algum valor nulo na series
dados={'estado':['SP', 'MG', 'PR', 'SP', 'MG', 'PR'], 'ano': ['2019', '2019', '2019', '2020', '2020', '2020',], 'pop' :['45.9', '21.2', '16.9', '46.6', '21.4', '17.3']}
# acima eu construi um dict(dicionário)para adicionar no dataframe
df1=pd.DataFrame(dados)#construção do DataFrame com o valores de dados
print(df1)#imprime os valores do DataFrame(tabela)
print(df1.head(2))#imprime somente as duas primeiras linhas do DataFrame(tabela)
print(df1.tail(2))#imprime os últimos dois registros
print(df1.sample(2))#iprime dois valores aleatórios do meu DataFrame
df2=pd.DataFrame(dados,columns=['ano', 'estado', 'pop'])#gerando um novo dataframe identico ao anterior, porém com outra ordem nas colunas
print(df2)#imprime o novo DataFrame
print(df2['estado'])#imprime apenas a coluna 'estado'
print(df2.ano)#imprime somente a coluna 'ano' com uma grafia diferente
print(df2.dtypes)#imprime os tipos de dados do DataFrame
df2['estimativa']=50#adiciona uma coluna chamada estimativa e adiciona valor 50 para todas as linhas no DAtaFrame
print(df2)
df2['estimativa']=np.arange(6)#atribui valores sequencias de 0 a 5 na coluna 'estimativa' do dataframe df2
print(df2)
df3=df2#criando um DataFrame:df3 igual o df2
print(df3)
df3=df2['ano']#cria um novo Dataframe(df3) somente com a coluna 'ano' do df2
print(df3)
df2['não Parana']=df2.estado!='PR'#cria uma nova coluna em df2('não parana') e compara ela com a coluna 'estado' tudo que for diferente de PR recebe true
print(df2)
del df2['não Parana']#exclui a coluna 'não Parana'
print(df2)
print(df2.shape)#mostra o tamanho do DataFrame
print(df2.shape[0])#mostra somente a quantidade de linhas do DataFrame
print(df2.index)#mostra o indice
print(df2.columns)#mostra as colunas
print(df2.count())#conta qntos valores cada variável(linha) possui
df2.columns=['ano', 'estado', 'população', 'estimativa']#recria com novos nomes para as colunas
print(df2)
print(df2.describe(include='all'))#descrição completa do DataFrame com todas as colunas
df2['ano'] = pd.to_numeric(df2['ano'])#converte a coluna 'anos' em dados numéricos do tipo int
df2['população'] = pd.to_numeric(df2['população'])#converte a coluna 'população' em dados numéricos do tipo int
df2['estado'] = df2['estado'].astype(str)#converte a coluna'estado' em dados do tipo string
df2['ano']=df2['ano']+2#soma 2 em todos os valores da coluna 'ano'
print(df2)
print(df2.describe(include='all'))
print(df2.dtypes)
print(df2[df2['ano']>2021])#compara os valores e imprime somente os valores acima de 2021 da coluna 'ano'
df4=(df2[df2['ano']>2021])#novo DataFrame(df4) recebe os valores acima de 2021 na coluna ano do df2
print(df4)
print(df4.drop('ano', axis='columns'))#exclui a coluna 'ano' do DataFrame df4
print(df2)#em df2 a coluna 'ano' continua lá
print(df4)# a coluna 'ano' não será ecluida do df4 tbm
df2.drop('ano', axis='columns',inplace=True)#nesse caso a coluna 'ano' do DataFrame df2 será excluida definitivamente do DataFrame
print(df2)#apresenta o df2 sem a coluna 'ano'
print(df2.drop([0,1]))#esclui as linhas de 0 até 1, mas apenas para observação (não atera na raiz)
print(df2)#imprime o DataFrame completo sem as excluções
dflinhas=df2#cria um novo DataFrame identico ao df2
dflinhas.drop([0,1],inplace=True)#exclui definitivamente as linhas de 0 a 1 da tabela
print(dflinhas)# apresenta o dataFrame dflinhas sem as linhas 0 e 1
print(df2.iloc[0])#apresenta a linha 0 do Dataframe df2
print(df2.iloc[1:3])#apresenta as linhas d 1 até 3 do DataFrame df2
print(df2.iloc[1:3,[1,2]])#apresenta somente as colunas 1 e 2 das linhas 1 ate a 3
print(df2)
