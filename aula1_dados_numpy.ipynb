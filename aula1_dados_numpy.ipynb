import numpy as np
dados=np.random.rand(2,3)# gera um ndarray de duas dimensões com números aleatórios(duas listas com três elementos)
print(dados)
print(dados.dtype)#mostra o tipo de array executado
print(dados.shape)#mostra as configurções do array (2,3 no caso)
print(dados.ndim)#mostra as dimensões do array

lista=[1,2,5,7.8,1.25]#gerou uma lista
dados1=np.array(lista)#cria um ndarray(estrutura do numpay) baseada na lista anterior
print("lista:",dados1)#imprime o ndarray
lista2=[(1,2,3,4),(4,3,2,1)]#criar um lista de duas dimensões
dados2=np.array(lista2)#criar um ndarray com a lista 2
print(dados2)
dadoszero=np.zeros(10)#uma função que cria um array com 10 posições com valores iguais a 0
print(dadoszero)
dadoszero2=np.zeros((2,3))#uma função que cria um array de duas dimensões com valores 0
print(dadoszero2)
dadosum=np.ones(5)#uma função que cria um array com cinco valores 1
print(dadosum)
dadossequ=np.arange(10)#função que cria um array com 10 valores sequenciais
print(dadossequ)
dadossequ2=np.arange(0,20,2)# função que cria um array de 0 a 20 com passo de 2 em 2
print(dadossequ2)
dadossequf=dadossequ.astype(np.float64)#transforma os dados inteiros do array em float
print(dadossequf)
dados4=np.array(([1,2,3],[3,4,5]))#gera um array de duas dimensões
print(dados4)
print("multiplica", dados4 * dados4)#multiplica os valores do array por eles msmo(não altera os valores do array)
print("subtração:", dados4 - dados4)#subtrai os valores do array por eles msmo
print("um dividido por:", 1 / dados4)#dividi todos os valores de cada posição por 1
dados5= dados4 + dados4#novo array que recebe a soma dos dados 4 em cada posição
print(dados5)#imprime dados 5
print("comparação", dados5>dados4)#compara posição por posição e verifica se é maior (verdadeiro ou falso)
print(dadossequ)
print(dadossequ[5])#apresenta o valor da posição 5 no array dadossequ(indexação)
print("valores das posições 3 ate 6", dadossequ[3:6])#apresenta os valores das posições 3 até a 6
dadossequ[3:6]=20#atribui o valor 20 para as posições de 3 até 6 no array dadossequ
print(dadossequ)#apresenta os valores do array, agora com os novos valores(20) para as posições 3 até a 6
fatiadados=dadossequ[2:4]#recorta os valores das posições 2 até 4 e cria um novo array(fatiadados) com esses valores
print("dadossequ", dadossequ)#apresenta o array dadosequ com os seu valores originais
print("fatiadados:", fatiadados)#apresenta o array fatiadados com os valores recortados de dadosequ
fatiadados[1]=2000#adiciona o valor 2000 na posição 1 no array fatiadados
print("fatiadados:", fatiadados)#apresenta o array fatiadados com seu novo valor na posição 1
print("dadosseq alterado brodcasting:", dadossequ)#aqui ocorre um brodcasting: os valores alterados do array fatiados, por serem originados do array dadossequ,irão alterar tbm os valores nas respectivas posições no array dadossequ
fatiadados[:]=333#atribui a todas as posições do array fatiados o valor 333
print(fatiadados)#apresenta o array com seus novos valores
print("broadicasting", dadossequ)#novamente observa-se um broadicasting
fatia2=dadossequ[2:4].copy()#para evitar o broadicasting é necessário fazer uma copia, aqui criamos um novo array fatia2 com os valores das posiçoes 2 até 4 do array dadosseq
print("fatia 2:", fatia2)#apresenta o array fatia2 com os valores das posições 2 e 3 do array dasosseq
fatia2[:]=222#adiciona o valor 222 a todas as posições do array fatia2
print("fatia2 alterado", fatia2)#imprime os array fatia 2 com seus novos valores
print("dadosseq:", dadossequ)#demontra que não ocorreu o broadcasting, pois as alterações no array fatia2 não se replicaram em dadosseq dado que fatia 2 é uma cópia
dados6=np.array([[1,2,3],[4,5,6],[7,8,9]])#cria um array dom mais de uma dimensão
print(dados6)#imprime o array com 3 linhas e 3 colunas
print(dados6[1,2])#imprime o valor da posição linha 1, coluna 2 da matriz dados 6
mascara=(dadossequ<100)#criando uma mascara: compara todos os valores de dadossequ com o numero 100 e cria um array multidimensional lógico a partir dessa comparação
print(mascara)#imprime a mascara com os valores lógicos a partir da comparação anterior
dadossequ[dadossequ<20]=8888#compara os valores de dadosseq com o numero 20 e aos valores menore de 20 atribui-se o número 888
print(dadossequ)#apresenta os valores do array com as atribuiçoes vindas da comparação e atribuição anterior
dados7=np.arange(15).reshape((3,5))#cria uma array multidimensional com 15 posições no formato de três linhas e cinco posições
print(dados7)#apresenta o novo array(3,5) de 15 posições
print(dados7.T)#o ponto T é de transposição ele inverte o array multidimensional, no caso o aaray de 15 posições com o formato 3,5 passa a ser de 15 posiçoes e formato 5,3
dados8=np.dot(dados7.T,dados7)#multiplicação de matriz: multiplica a matriz dados7.t pela matriz dados7
print("dados7:", dados7)#observe que não ouve reatribuição na matriz original(não ouve broadcasting)
print("dados8:",dados8)#apresenta a matriz dados8 que é a multiplicação das matrizes dados7.T e dados7
