import pandas as pd
import numpy as np
import matplotlib.pyplot as plt
import seaborn as sns

x=[1,2,3,4,5,6,7,8,9,10]#gera uma lista em x
y=[1,2,3,4,2,6,7,8,9,10]#gera uma lista em y
plt.scatter(x,y)#plotar um gráfico com as coordenadas de x e y
print(plt.show)#imprime o gráfico
x1=np.arange(-100,100,1)#forma um array numpy com valor inicial -100 valor final 99, passo de 1 em 1
print(x1)
plt.plot(x1,x1**2)#gera um gráfico em que os valores de y são x**2 (x ao quadrado)
print(plt.show())#imprime o gráfico
plt.plot(x1,(x1**2)-2000)#gera um novo gráfico onde os pontos de x são x ao quadrado menos 2000
print(plt.show())
dias=np.arange(1,31)#gera um array de 1 a 30 em dias
vacinados=np.random.randint(0,1000,30)#gera um array com 30 numeros aleatórios entre 0 e 1000
contagios=np.random.randint(0,700,30)#gera um array de 30 numeros com valores randomicos de 0 a 700
print(vacinados)
plt.style.use('classic')#gera um grafico no estilo classico
#plt.style.use('dark_background')#gera um grafico com fundo preto
#plt.style.use('default')#gera um grafico no estilo básico
plt.figure(figsize=(10,5))#configura o tamanho do gráfico
plt.bar(dias,vacinados)#gera um gráfico de barras com as variáveis dias e vacinados
plt.plot(dias,contagios,'r')#imprime no gráfico a variável dias/contágios em linha vermelha
plt.ylabel('vacinados por dia')#gera os labels para o gráfico
print(plt.show())#imprime o gráfico vacinados por dia
dados=pd.DataFrame(dias,columns=['dias'])#cria um DataFrame com a variável dias e uma coluna dias
dados['Contagios']=contagios#adiciona  ao DataFrame uma coluna com a variavel contagios
dados['Vacinados']=vacinados#adiciona uma coluna com a variável Vacinados
print(dados)#imprime o DataFrame dados
print(dados.plot(kind='bar', x='dias', y='Vacinados'))#gera um gráfico pelo Pandas de barras com as variáveis dias e vacinados do DataFrame
sns.barplot(data=dados, x='dias', y='Contagios')#gera um gráfico a partir do Seaborn com os dados de dias e contagios do DataFrame:dados
#sns.barplot(data=dados, x='dias', y='Vacinados', color='r')#gera um gráfico de barra jutamente com o gráfico de barras anteiror
sns.lineplot(data=dados, x='dias', y= 'Vacinados', color='r')#gera um gráfico de linha vermelha por cima do gráfico de barras
